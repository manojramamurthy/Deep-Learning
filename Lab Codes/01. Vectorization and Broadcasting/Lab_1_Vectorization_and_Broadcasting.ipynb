{
 "cells": [
  {
   "cell_type": "markdown",
   "metadata": {},
   "source": [
    "# Vectorization"
   ]
  },
  {
   "cell_type": "markdown",
   "metadata": {},
   "source": [
    "### Vectorization is an art of getting rid of explicit For Loops from our code to speedup the process.\n",
    "Let's see the difference in time taken for execution of dot product function using a For Loop versus Vectorization in Python. Libraries needed for Vectorization: numpy and time"
   ]
  },
  {
   "cell_type": "code",
   "execution_count": 13,
   "metadata": {
    "scrolled": true
   },
   "outputs": [
    {
     "name": "stdout",
     "output_type": "stream",
     "text": [
      "[1 2 3 4]\n",
      "[0.28304761 0.63807317 0.65433438 0.66577735 0.24154407]\n"
     ]
    }
   ],
   "source": [
    "import numpy as np\n",
    "a = np.array([1,2,3,4])     #This is how to declare a 1D array\n",
    "print(a)\n",
    "#numpy.random.rand() method creates array of specified shape with random values.\n",
    "b = np.random.rand(5)       #Generating 5 random values\n",
    "print(b)"
   ]
  },
  {
   "cell_type": "code",
   "execution_count": 14,
   "metadata": {},
   "outputs": [],
   "source": [
    "import time\n",
    "\n",
    "a = np.random.rand(10000000)       #a is 1D array of 10 Million Random Values\n",
    "b = np.random.rand(10000000)       #b is 1D array of another 10 Million Random Values"
   ]
  },
  {
   "cell_type": "markdown",
   "metadata": {},
   "source": [
    "### Comparing the time taken for dot product of a and b vectors in milliseconds"
   ]
  },
  {
   "cell_type": "markdown",
   "metadata": {},
   "source": [
    "Background on time.time(): returns the time as a floating point number expressed in seconds since the epoch, in UTC. Literally speaking the epoch is Unix time 0 (midnight 1/1/1970)"
   ]
  },
  {
   "cell_type": "code",
   "execution_count": 15,
   "metadata": {},
   "outputs": [
    {
     "name": "stdout",
     "output_type": "stream",
     "text": [
      "2498864.2366606635\n",
      "Vectorized Version:5.985021591186523ms\n",
      "2498864.2366605573\n",
      "For Loop Version:4101.605653762817ms\n"
     ]
    }
   ],
   "source": [
    "tic = time.time()\n",
    "c   = np.dot(a,b)\n",
    "toc = time.time()\n",
    "print(c)\n",
    "print(\"Vectorized Version:\"+str(1000*(toc-tic))+\"ms\")\n",
    "c=0\n",
    "tic = time.time()\n",
    "for i in range(10000000):\n",
    "    c += a[i]*b[i]\n",
    "toc = time.time()\n",
    "print(c)\n",
    "print(\"For Loop Version:\"+str(1000*(toc-tic))+\"ms\")"
   ]
  },
  {
   "cell_type": "markdown",
   "metadata": {},
   "source": [
    "# Broadcasting"
   ]
  },
  {
   "cell_type": "markdown",
   "metadata": {},
   "source": [
    "### The term broadcasting refers to how numpy treats arrays with different Dimension during arithmetic operations which lead to certain constraints, the smaller array is broadcast across the larger array so that they have compatible shapes."
   ]
  },
  {
   "cell_type": "markdown",
   "metadata": {},
   "source": [
    "Suppose Mr. A and Mrs. B are a couple working in two different organizations. We have their salary data of each month for the FY 2019-20. We want to calculate the income tax they need to pay assuming they have each saved Rs. 1.5 Lac according to Form 80C. Assumption is tax is to be calculated as 10% of the taxable income and there is no tax up to Rs. 5 Lac of income.\n",
    "\n",
    "A = (50000,50000,50000,50000,60000,60000,60000,60000,70000,70000,70000,70000)\n",
    "\n",
    "B = (60000,60000,60000,60000,60000,60000,75000,75000,75000,75000,75000,75000)"
   ]
  },
  {
   "cell_type": "code",
   "execution_count": 16,
   "metadata": {},
   "outputs": [
    {
     "name": "stdout",
     "output_type": "stream",
     "text": [
      "[[50000 50000 50000 50000 60000 60000 60000 60000 70000 70000 70000 70000]\n",
      " [60000 60000 60000 60000 60000 60000 75000 75000 75000 75000 75000 75000]]\n"
     ]
    }
   ],
   "source": [
    "IncomeArray = np.array([[50000,50000,50000,50000,60000,60000,60000,60000,70000,70000,70000,70000],\n",
    "              [60000,60000,60000,60000,60000,60000,75000,75000,75000,75000,75000,75000]])\n",
    "print(IncomeArray)"
   ]
  },
  {
   "cell_type": "code",
   "execution_count": 5,
   "metadata": {},
   "outputs": [
    {
     "name": "stdout",
     "output_type": "stream",
     "text": [
      "[720000 810000]\n"
     ]
    }
   ],
   "source": [
    "TotalIncome = IncomeArray.sum(axis=1)\n",
    "print(TotalIncome)"
   ]
  },
  {
   "cell_type": "code",
   "execution_count": 6,
   "metadata": {},
   "outputs": [
    {
     "name": "stdout",
     "output_type": "stream",
     "text": [
      "Tax Payable for Mr. A : 7000.0 and Tax Payable by Mrs. B : 16000.0\n"
     ]
    }
   ],
   "source": [
    "PayableIncomeTax = 0.1*(TotalIncome-500000-150000)\n",
    "print(\"Tax Payable for Mr. A : \" + str(PayableIncomeTax[0]) + \" and Tax Payable by Mrs. B : \"+str(PayableIncomeTax[1]))"
   ]
  },
  {
   "cell_type": "markdown",
   "metadata": {},
   "source": [
    "Let's find their monthly salary they bring home."
   ]
  },
  {
   "cell_type": "code",
   "execution_count": 7,
   "metadata": {},
   "outputs": [
    {
     "name": "stdout",
     "output_type": "stream",
     "text": [
      "[110000 110000 110000 110000 120000 120000 135000 135000 145000 145000\n",
      " 145000 145000]\n"
     ]
    }
   ],
   "source": [
    "MonthlySalary = IncomeArray.sum(axis=0)\n",
    "print(MonthlySalary)"
   ]
  },
  {
   "cell_type": "markdown",
   "metadata": {},
   "source": [
    "### Some more examples on Broadcasting"
   ]
  },
  {
   "cell_type": "code",
   "execution_count": 18,
   "metadata": {},
   "outputs": [
    {
     "name": "stdout",
     "output_type": "stream",
     "text": [
      "[1 2 3 4]\n",
      "[[101]\n",
      " [102]\n",
      " [103]\n",
      " [104]]\n"
     ]
    }
   ],
   "source": [
    "A = np.array([1,2,3,4])\n",
    "print(A)\n",
    "A=A.reshape(4,1)\n",
    "print(A+100)"
   ]
  },
  {
   "cell_type": "code",
   "execution_count": 20,
   "metadata": {},
   "outputs": [
    {
     "name": "stdout",
     "output_type": "stream",
     "text": [
      "Initial array A = [1 2 3 4 5 6]\n",
      "A = [[1 2 3]\n",
      " [4 5 6]]\n",
      "B = [[100 200 300]]\n",
      "Sum of A+B = [[101 202 303]\n",
      " [104 205 306]]\n"
     ]
    }
   ],
   "source": [
    "A=np.array([1,2,3,4,5,6])\n",
    "print(\"Initial array A = \"+str(A))\n",
    "A=A.reshape(2,3)\n",
    "print(\"A = \"+str(A))\n",
    "B=np.array([100,200,300]).reshape(1,3)\n",
    "print(\"B = \"+str(B))\n",
    "print(\"Sum of A+B = \"+str(A+B))"
   ]
  },
  {
   "cell_type": "code",
   "execution_count": 10,
   "metadata": {},
   "outputs": [
    {
     "name": "stdout",
     "output_type": "stream",
     "text": [
      "A = [[1 2 3]\n",
      " [4 5 6]]\n",
      "B = [[100]\n",
      " [200]]\n",
      "Sum of A+B = [[101 102 103]\n",
      " [204 205 206]]\n"
     ]
    }
   ],
   "source": [
    "A=np.array([1,2,3,4,5,6])\n",
    "A=A.reshape(2,3)\n",
    "print(\"A = \"+str(A))\n",
    "B=np.array([100,200]).reshape(2,1)\n",
    "print(\"B = \"+str(B))\n",
    "print(\"Sum of A+B = \"+str(A+B))"
   ]
  }
 ],
 "metadata": {
  "kernelspec": {
   "display_name": "Python 3",
   "language": "python",
   "name": "python3"
  },
  "language_info": {
   "codemirror_mode": {
    "name": "ipython",
    "version": 3
   },
   "file_extension": ".py",
   "mimetype": "text/x-python",
   "name": "python",
   "nbconvert_exporter": "python",
   "pygments_lexer": "ipython3",
   "version": "3.6.5"
  }
 },
 "nbformat": 4,
 "nbformat_minor": 2
}
