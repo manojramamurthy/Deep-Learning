{
  "nbformat": 4,
  "nbformat_minor": 0,
  "metadata": {
    "colab": {
      "name": "Tensorflow Basics.ipynb",
      "provenance": [],
      "collapsed_sections": []
    },
    "kernelspec": {
      "name": "python3",
      "display_name": "Python 3"
    }
  },
  "cells": [
    {
      "cell_type": "markdown",
      "metadata": {
        "id": "40INoYyb5lhC",
        "colab_type": "text"
      },
      "source": [
        "#Agenda"
      ]
    },
    {
      "cell_type": "markdown",
      "metadata": {
        "id": "QckXbk4W5tdB",
        "colab_type": "text"
      },
      "source": [
        "In this notebook, we are going to study:\n",
        "1. TensorFlow Installation\n",
        "2. Why TensorFlow?\n",
        "3. How it works?\n",
        "4. Representing Tensors\n",
        "5. Tensor Shape and Rank\n",
        "6. Types of Tensors\n",
        "7. Slicing of Tensors\n",
        "8. Broadcasting with TensorFlow\n",
        "9. Types of Data and Changing Type of Data\n",
        "10. Useful TensorFlow Operators\n",
        "\n"
      ]
    },
    {
      "cell_type": "markdown",
      "metadata": {
        "id": "vVcyc4p24vLC",
        "colab_type": "text"
      },
      "source": [
        "#Tensorflow Installation\n",
        "If you are using local machine, you can install TensorFlow by using following commands:\n",
        "1. Install Python 3.x with or without Anaconda\n",
        "2. CPU: \"conda install tensorflow\" OR \"pip install tensorflow\"\n",
        "3. GPU: \"conda install -c anaconda tensorflow-gpu\" OR \"pip install tensorflow-gpu\"\n",
        "\n",
        "In Google Colaboratory, there is no need of exclusively installing the TensorFlow."
      ]
    },
    {
      "cell_type": "markdown",
      "metadata": {
        "id": "m4dv16yD7_nS",
        "colab_type": "text"
      },
      "source": [
        "#Why TensorFlow?"
      ]
    },
    {
      "cell_type": "markdown",
      "metadata": {
        "id": "h3lngzlW8DbZ",
        "colab_type": "text"
      },
      "source": [
        "TensorFlow is an end-to-end open source platform for machine learning. It has a comprehensive, flexible ecosystem of tools, libraries and community resources that lets researchers push the state-of-the-art in ML and developers easily build and deploy ML powered applications.\n",
        "Reference: https://www.tensorflow.org/\n",
        "\n",
        "TensorFlow is the largest machine learning library in the world, owned and maintained by Google Inc."
      ]
    },
    {
      "cell_type": "markdown",
      "metadata": {
        "id": "ex1YO-A99AJA",
        "colab_type": "text"
      },
      "source": [
        "#How Tensorflow Works?"
      ]
    },
    {
      "cell_type": "markdown",
      "metadata": {
        "id": "HPsq6ae79DcB",
        "colab_type": "text"
      },
      "source": [
        "TensorFlow has two main components:\n",
        "1. Graphs\n",
        "2. Sessions\n",
        "\n",
        "TensorFlow works by building a graph of defined computations. Nothing is computed or stored in this graph. It is simply a way of defining the operations that have been written in the code.\n",
        "\n",
        "A TensorFlow sessions allows parts of the graph to be executed. It allocates memory or resources and handles the execution of the operations and computations we have defined.\n",
        "\n",
        "In some instances we will need to run a session to be able to execute parts of the graph we have created earlier."
      ]
    },
    {
      "cell_type": "markdown",
      "metadata": {
        "id": "eXAotwgfONpa",
        "colab_type": "text"
      },
      "source": [
        "#Importing TensorFlow"
      ]
    },
    {
      "cell_type": "code",
      "metadata": {
        "id": "DTlBPJRRWPtg",
        "colab_type": "code",
        "colab": {}
      },
      "source": [
        "%tensorflow_version 2.x"
      ],
      "execution_count": null,
      "outputs": []
    },
    {
      "cell_type": "code",
      "metadata": {
        "id": "sLJyDP0DWe7z",
        "colab_type": "code",
        "colab": {
          "base_uri": "https://localhost:8080/",
          "height": 34
        },
        "outputId": "278dd15f-00b9-4833-cf13-038396ba46b0"
      },
      "source": [
        "import tensorflow as tf\n",
        "print(tf.version)"
      ],
      "execution_count": null,
      "outputs": [
        {
          "output_type": "stream",
          "text": [
            "<module 'tensorflow._api.v2.version' from '/usr/local/lib/python3.6/dist-packages/tensorflow/_api/v2/version/__init__.py'>\n"
          ],
          "name": "stdout"
        }
      ]
    },
    {
      "cell_type": "markdown",
      "metadata": {
        "id": "Ir6wwd7COg-w",
        "colab_type": "text"
      },
      "source": [
        "#Tensors"
      ]
    },
    {
      "cell_type": "markdown",
      "metadata": {
        "id": "-b04eTNoQYJQ",
        "colab_type": "text"
      },
      "source": [
        "\"A tensor is a generalization of vectors and matrices to potentially higher dimensions. Internally, TensorFlow represents tensors as n-dimensional arrays of base datatypes.\" (https://www.tensorflow.org/guide/tensor)\n",
        "\n",
        "It shouldn't surprise you that tensors are a fundemental aspect of TensorFlow. They are the main objects that are passed around and manipulated throughout the program. Each tensor represents a partialy defined computation that will eventually produce a value. TensorFlow programs work by building a graph of Tensor objects that details how tensors are related. Running different parts of the graph allow results to be generated.\n",
        "\n",
        "Each tensor has a data type and a shape.\n",
        "\n",
        "Data Types Include: float32, int32, string and others.\n",
        "\n",
        "Shape: Represents the dimension of data.\n",
        "\n",
        "Just like vectors and matrices tensors can have operations applied to them like addition, subtraction, dot product, cross product etc.\n",
        "\n",
        "In the next sections we will discuss some different properties of tensors. This is to make you more familiar with how tensorflow represnts data and how you can manipulate this data."
      ]
    },
    {
      "cell_type": "markdown",
      "metadata": {
        "id": "ThrzQUawhfV6",
        "colab_type": "text"
      },
      "source": [
        "#Types of Tensors\n",
        "Before we go to far, I will mention that there are different types of tensors. These are the most used and we will talk more in depth about each as they are used.\n",
        "\n",
        "1. Variable\n",
        "2. Constant\n",
        "3. Placeholder\n",
        "4. SparseTensor\n",
        "\n",
        "With the exception of Variable all these tensors are immuttable, meaning their value may not change during execution.\n",
        "\n",
        "For now, it is enough to understand that we use the Variable tensor when we want to potentially change the value of our tensor."
      ]
    },
    {
      "cell_type": "markdown",
      "metadata": {
        "id": "K2RcgYeGxQOR",
        "colab_type": "text"
      },
      "source": [
        "#Variables"
      ]
    },
    {
      "cell_type": "code",
      "metadata": {
        "id": "x0IsC-yJxOZx",
        "colab_type": "code",
        "colab": {
          "base_uri": "https://localhost:8080/",
          "height": 70
        },
        "outputId": "43988942-a094-40a1-a191-a3dc9fb17614"
      },
      "source": [
        "a = tf.Variable(0,name = 'input')\n",
        "b = tf.constant(1)\n",
        "\n",
        "for i in range(3):\n",
        "  a = a + b\n",
        "  print(a)"
      ],
      "execution_count": null,
      "outputs": [
        {
          "output_type": "stream",
          "text": [
            "tf.Tensor(1, shape=(), dtype=int32)\n",
            "tf.Tensor(2, shape=(), dtype=int32)\n",
            "tf.Tensor(3, shape=(), dtype=int32)\n"
          ],
          "name": "stdout"
        }
      ]
    },
    {
      "cell_type": "markdown",
      "metadata": {
        "id": "CtJA8DYRt78Z",
        "colab_type": "text"
      },
      "source": [
        "#Constants"
      ]
    },
    {
      "cell_type": "code",
      "metadata": {
        "id": "8sePOuQ4t8zh",
        "colab_type": "code",
        "colab": {
          "base_uri": "https://localhost:8080/",
          "height": 34
        },
        "outputId": "94b9f5c1-1513-47f8-e312-0947ef1c2ca2"
      },
      "source": [
        "a = tf.constant(3)\n",
        "b = tf.constant(5)\n",
        "\n",
        "c = a + b\n",
        "print(c)"
      ],
      "execution_count": null,
      "outputs": [
        {
          "output_type": "stream",
          "text": [
            "tf.Tensor(8, shape=(), dtype=int32)\n"
          ],
          "name": "stdout"
        }
      ]
    },
    {
      "cell_type": "markdown",
      "metadata": {
        "id": "cq1enxDsYb1V",
        "colab_type": "text"
      },
      "source": [
        "#Placeholders"
      ]
    },
    {
      "cell_type": "markdown",
      "metadata": {
        "id": "_r9QWBYSYg0M",
        "colab_type": "text"
      },
      "source": [
        "Inserts a placeholder for a tensor that will be always fed."
      ]
    },
    {
      "cell_type": "code",
      "metadata": {
        "id": "Bvb8YgFiZYdL",
        "colab_type": "code",
        "colab": {
          "base_uri": "https://localhost:8080/",
          "height": 52
        },
        "outputId": "2665a191-7a63-456c-8a4c-c2a026a45e41"
      },
      "source": [
        "%tensorflow_version 1.x\n",
        "import tensorflow.compat.v1 as tf\n",
        "\n",
        "placeholder_ex = tf.placeholder(tf.int32, shape=(1, 2, 3))\n",
        "print(placeholder_ex)"
      ],
      "execution_count": null,
      "outputs": [
        {
          "output_type": "stream",
          "text": [
            "TensorFlow 1.x selected.\n",
            "Tensor(\"Placeholder:0\", shape=(1, 2, 3), dtype=int32)\n"
          ],
          "name": "stdout"
        }
      ]
    },
    {
      "cell_type": "markdown",
      "metadata": {
        "id": "H7qeAkenYeET",
        "colab_type": "text"
      },
      "source": [
        "#Sparse Tensors"
      ]
    },
    {
      "cell_type": "markdown",
      "metadata": {
        "id": "RdFJwRUqYh9T",
        "colab_type": "text"
      },
      "source": [
        "TensorFlow represents a sparse tensor as three separate dense tensors: indices, values, and shape. In Python, the three tensors are collected into a SparseTensor class for ease of use. If you have separate indices, values, and shape tensors, wrap them in a SparseTensor object before passing to the ops.\n",
        "\n",
        "TensorFlow Operations, also known as Ops, are nodes that perform computations on or with Tensor objects. After computation, they return zero or more tensors, which can be used by other Ops later in the graph."
      ]
    },
    {
      "cell_type": "markdown",
      "metadata": {
        "id": "EPJlSrXLQg8Z",
        "colab_type": "text"
      },
      "source": [
        "#Creating Tensors"
      ]
    },
    {
      "cell_type": "code",
      "metadata": {
        "id": "KUEyGGmXbkdE",
        "colab_type": "code",
        "colab": {}
      },
      "source": [
        "%tensorflow_version 2.x\n",
        "import tensorflow as tf"
      ],
      "execution_count": null,
      "outputs": []
    },
    {
      "cell_type": "code",
      "metadata": {
        "id": "SJSH62XRQia4",
        "colab_type": "code",
        "colab": {}
      },
      "source": [
        "string = tf.Variable(\"My Name is a string\", tf.string) \n",
        "number = tf.Variable(32, tf.int16)\n",
        "floating = tf.Variable(31.567, tf.float64)"
      ],
      "execution_count": null,
      "outputs": []
    },
    {
      "cell_type": "code",
      "metadata": {
        "id": "8OFjVOD2Qo2A",
        "colab_type": "code",
        "colab": {
          "base_uri": "https://localhost:8080/",
          "height": 70
        },
        "outputId": "b96e6e52-ea45-4e5b-fea1-01d0ec173d0a"
      },
      "source": [
        "print(string)\n",
        "print(number)\n",
        "print(floating)"
      ],
      "execution_count": null,
      "outputs": [
        {
          "output_type": "stream",
          "text": [
            "<tf.Variable 'Variable:0' shape=() dtype=string, numpy=b'My Name is a string'>\n",
            "<tf.Variable 'Variable:0' shape=() dtype=int32, numpy=32>\n",
            "<tf.Variable 'Variable:0' shape=() dtype=float32, numpy=31.567>\n"
          ],
          "name": "stdout"
        }
      ]
    },
    {
      "cell_type": "markdown",
      "metadata": {
        "id": "dHiYZwilQ_uI",
        "colab_type": "text"
      },
      "source": [
        "#Rank/Degree of Tensors"
      ]
    },
    {
      "cell_type": "markdown",
      "metadata": {
        "id": "60kNYK9JVFkA",
        "colab_type": "text"
      },
      "source": [
        "Another word for rank is degree, these terms simply mean the number of dimensions involved in the tensor. What we created above is a tensor of rank 0, also known as a scalar."
      ]
    },
    {
      "cell_type": "code",
      "metadata": {
        "id": "44vGhipNRDWP",
        "colab_type": "code",
        "colab": {
          "base_uri": "https://localhost:8080/",
          "height": 34
        },
        "outputId": "8c933c94-1a24-470e-ae4e-6370ea766e8b"
      },
      "source": [
        "rank1_tensor = tf.Variable([\"Test\"], tf.string) \n",
        "rank2_tensor = tf.Variable([[\"test\", \"ok\"], [\"test\", \"yes\"]], tf.string)\n",
        "#Determining the rank\n",
        "tf.rank(rank2_tensor)"
      ],
      "execution_count": null,
      "outputs": [
        {
          "output_type": "execute_result",
          "data": {
            "text/plain": [
              "<tf.Tensor: shape=(), dtype=int32, numpy=2>"
            ]
          },
          "metadata": {
            "tags": []
          },
          "execution_count": 4
        }
      ]
    },
    {
      "cell_type": "markdown",
      "metadata": {
        "id": "aUtFV37mRiXw",
        "colab_type": "text"
      },
      "source": [
        "The rank of a tensor is directly related to the deepest level of nested lists. You can see in the first example [\"Test\"] is a rank 1 tensor as the deepest level of nesting is 1. Where in the second example [[\"test\", \"ok\"], [\"test\", \"yes\"]] is a rank 2 tensor as the deepest level of nesting is 2."
      ]
    },
    {
      "cell_type": "code",
      "metadata": {
        "id": "Tt55GP-B2ncy",
        "colab_type": "code",
        "colab": {}
      },
      "source": [
        "rank4_tensor = tf.ones([3, 2, 4, 5])"
      ],
      "execution_count": null,
      "outputs": []
    },
    {
      "cell_type": "code",
      "metadata": {
        "id": "CF2ouZxpk5fC",
        "colab_type": "code",
        "colab": {
          "base_uri": "https://localhost:8080/",
          "height": 577
        },
        "outputId": "7a434d53-a79c-48fd-ed50-b4411c45678c"
      },
      "source": [
        "print(rank4_tensor)"
      ],
      "execution_count": null,
      "outputs": [
        {
          "output_type": "stream",
          "text": [
            "tf.Tensor(\n",
            "[[[[1. 1. 1. 1. 1.]\n",
            "   [1. 1. 1. 1. 1.]\n",
            "   [1. 1. 1. 1. 1.]\n",
            "   [1. 1. 1. 1. 1.]]\n",
            "\n",
            "  [[1. 1. 1. 1. 1.]\n",
            "   [1. 1. 1. 1. 1.]\n",
            "   [1. 1. 1. 1. 1.]\n",
            "   [1. 1. 1. 1. 1.]]]\n",
            "\n",
            "\n",
            " [[[1. 1. 1. 1. 1.]\n",
            "   [1. 1. 1. 1. 1.]\n",
            "   [1. 1. 1. 1. 1.]\n",
            "   [1. 1. 1. 1. 1.]]\n",
            "\n",
            "  [[1. 1. 1. 1. 1.]\n",
            "   [1. 1. 1. 1. 1.]\n",
            "   [1. 1. 1. 1. 1.]\n",
            "   [1. 1. 1. 1. 1.]]]\n",
            "\n",
            "\n",
            " [[[1. 1. 1. 1. 1.]\n",
            "   [1. 1. 1. 1. 1.]\n",
            "   [1. 1. 1. 1. 1.]\n",
            "   [1. 1. 1. 1. 1.]]\n",
            "\n",
            "  [[1. 1. 1. 1. 1.]\n",
            "   [1. 1. 1. 1. 1.]\n",
            "   [1. 1. 1. 1. 1.]\n",
            "   [1. 1. 1. 1. 1.]]]], shape=(3, 2, 4, 5), dtype=float32)\n"
          ],
          "name": "stdout"
        }
      ]
    },
    {
      "cell_type": "markdown",
      "metadata": {
        "id": "2DKgvqsTlXtT",
        "colab_type": "text"
      },
      "source": [
        "![alt text](https://www.tensorflow.org/guide/images/tensor/4-axis_block.png)"
      ]
    },
    {
      "cell_type": "code",
      "metadata": {
        "id": "7nMkWpvplz96",
        "colab_type": "code",
        "colab": {
          "base_uri": "https://localhost:8080/",
          "height": 122
        },
        "outputId": "2069c31e-764a-4624-cebb-4dc532bde6a8"
      },
      "source": [
        "print(\"Type of every element:\", rank4_tensor.dtype)\n",
        "print(\"Number of dimensions:\", rank4_tensor.ndim)\n",
        "print(\"Shape of tensor:\", rank4_tensor.shape)\n",
        "print(\"Elements along axis 0 of tensor:\", rank4_tensor.shape[0])\n",
        "print(\"Elements along the last axis of tensor:\", rank4_tensor.shape[-1])\n",
        "print(\"Total number of elements (3*2*4*5): \", tf.size(rank4_tensor).numpy())"
      ],
      "execution_count": null,
      "outputs": [
        {
          "output_type": "stream",
          "text": [
            "Type of every element: <dtype: 'float32'>\n",
            "Number of dimensions: 4\n",
            "Shape of tensor: (3, 2, 4, 5)\n",
            "Elements along axis 0 of tensor: 3\n",
            "Elements along the last axis of tensor: 5\n",
            "Total number of elements (3*2*4*5):  120\n"
          ],
          "name": "stdout"
        }
      ]
    },
    {
      "cell_type": "markdown",
      "metadata": {
        "id": "Emz3MwQomiA6",
        "colab_type": "text"
      },
      "source": [
        "#Indexing\n",
        "##Single-axis indexing\n",
        "TensorFlow follow standard python indexing rules, similar to indexing a list or a string in python, and the bacic rules for numpy indexing.\n",
        "\n",
        "1. indexes start at 0\n",
        "2. negative indices count backwards from the end\n",
        "3. colons, :, are used for slices start:stop:step"
      ]
    },
    {
      "cell_type": "code",
      "metadata": {
        "id": "s4XWdNoznKO6",
        "colab_type": "code",
        "colab": {
          "base_uri": "https://localhost:8080/",
          "height": 34
        },
        "outputId": "1c81d9c4-3fda-43b6-812f-ba58a53d9351"
      },
      "source": [
        "rank_1_tensor = tf.constant([0, 1, 1, 2, 3, 5, 8, 13, 21, 34])\n",
        "print(rank_1_tensor.numpy())"
      ],
      "execution_count": null,
      "outputs": [
        {
          "output_type": "stream",
          "text": [
            "[ 0  1  1  2  3  5  8 13 21 34]\n"
          ],
          "name": "stdout"
        }
      ]
    },
    {
      "cell_type": "code",
      "metadata": {
        "id": "d7lX8k2snRxJ",
        "colab_type": "code",
        "colab": {
          "base_uri": "https://localhost:8080/",
          "height": 69
        },
        "outputId": "3c018855-7e43-42fa-f636-86bd2833d0a0"
      },
      "source": [
        "print(\"First:\", rank_1_tensor[0].numpy())\n",
        "print(\"Second:\", rank_1_tensor[1].numpy())\n",
        "print(\"Last:\", rank_1_tensor[-1].numpy())"
      ],
      "execution_count": null,
      "outputs": [
        {
          "output_type": "stream",
          "text": [
            "First: 0\n",
            "Second: 1\n",
            "Last: 34\n"
          ],
          "name": "stdout"
        }
      ]
    },
    {
      "cell_type": "code",
      "metadata": {
        "id": "E2BQ7VxBnXq5",
        "colab_type": "code",
        "colab": {
          "base_uri": "https://localhost:8080/",
          "height": 122
        },
        "outputId": "9846290a-bbc0-47d4-c91f-a68fab73c1cf"
      },
      "source": [
        "print(\"Everything:\", rank_1_tensor[:].numpy())\n",
        "print(\"Before 4:\", rank_1_tensor[:4].numpy())\n",
        "print(\"From 4 to the end:\", rank_1_tensor[4:].numpy())\n",
        "print(\"From 2, before 7:\", rank_1_tensor[2:7].numpy())\n",
        "print(\"Every other item:\", rank_1_tensor[::2].numpy())\n",
        "print(\"Reversed:\", rank_1_tensor[::-1].numpy())"
      ],
      "execution_count": null,
      "outputs": [
        {
          "output_type": "stream",
          "text": [
            "Everything: [ 0  1  1  2  3  5  8 13 21 34]\n",
            "Before 4: [0 1 1 2]\n",
            "From 4 to the end: [ 3  5  8 13 21 34]\n",
            "From 2, before 7: [1 2 3 5 8]\n",
            "Every other item: [ 0  1  3  8 21]\n",
            "Reversed: [34 21 13  8  5  3  2  1  1  0]\n"
          ],
          "name": "stdout"
        }
      ]
    },
    {
      "cell_type": "markdown",
      "metadata": {
        "id": "vnpOrZpoU3_h",
        "colab_type": "text"
      },
      "source": [
        "#Shape of Tensors"
      ]
    },
    {
      "cell_type": "markdown",
      "metadata": {
        "id": "aWKhofhfW2oz",
        "colab_type": "text"
      },
      "source": [
        "The shape of a tensor is simply the number of elements that exist in each dimension. TensorFlow will try to determine the shape of a tensor but sometimes it may be unknown.\n",
        "\n",
        "To get the shape of a tensor we use the shape attribute."
      ]
    },
    {
      "cell_type": "code",
      "metadata": {
        "id": "O2pHna8HTkqY",
        "colab_type": "code",
        "colab": {
          "base_uri": "https://localhost:8080/",
          "height": 34
        },
        "outputId": "65a8f457-c5fe-4ec1-b98f-1ef62ea93e79"
      },
      "source": [
        "rank1_tensor.shape"
      ],
      "execution_count": null,
      "outputs": [
        {
          "output_type": "execute_result",
          "data": {
            "text/plain": [
              "TensorShape([1])"
            ]
          },
          "metadata": {
            "tags": []
          },
          "execution_count": 34
        }
      ]
    },
    {
      "cell_type": "code",
      "metadata": {
        "id": "UqfUm70v2zWZ",
        "colab_type": "code",
        "colab": {
          "base_uri": "https://localhost:8080/",
          "height": 34
        },
        "outputId": "8526ef34-13d5-45e7-d2f0-b7d06596aff5"
      },
      "source": [
        "rank2_tensor.shape"
      ],
      "execution_count": null,
      "outputs": [
        {
          "output_type": "execute_result",
          "data": {
            "text/plain": [
              "TensorShape([2, 2])"
            ]
          },
          "metadata": {
            "tags": []
          },
          "execution_count": 35
        }
      ]
    },
    {
      "cell_type": "code",
      "metadata": {
        "id": "KgGQO2_822ix",
        "colab_type": "code",
        "colab": {
          "base_uri": "https://localhost:8080/",
          "height": 34
        },
        "outputId": "a22aca26-8c72-4005-e707-1471b227a517"
      },
      "source": [
        "rank4_tensor.shape"
      ],
      "execution_count": null,
      "outputs": [
        {
          "output_type": "execute_result",
          "data": {
            "text/plain": [
              "TensorShape([3, 2, 4, 5])"
            ]
          },
          "metadata": {
            "tags": []
          },
          "execution_count": 36
        }
      ]
    },
    {
      "cell_type": "markdown",
      "metadata": {
        "id": "dhcidlVVYiGY",
        "colab_type": "text"
      },
      "source": [
        "#Changing Shape"
      ]
    },
    {
      "cell_type": "markdown",
      "metadata": {
        "id": "Cl1rG3UhYrwJ",
        "colab_type": "text"
      },
      "source": [
        "The number of elements of a tensor is the product of the sizes of all its shapes. There are often many shapes that have the same number of elements, making it convient to be able to change the shape of a tensor."
      ]
    },
    {
      "cell_type": "code",
      "metadata": {
        "id": "vPckYiZSYumw",
        "colab_type": "code",
        "colab": {}
      },
      "source": [
        "tensor1 = tf.ones([1,2,3])  # tf.ones() creates a shape [1,2,3] tensor full of ones\n",
        "tensor2 = tf.reshape(tensor1, [2,3,1])  # reshape existing data to shape [2,3,1]\n",
        "tensor3 = tf.reshape(tensor2, [3, -1])  # -1 tells the tensor to calculate the size of the dimension in that place\n",
        "                                        # this will reshape the tensor to [3,3]\n",
        "                                                                             \n",
        "# The number of elements in the reshaped tensor MUST match the number in the original"
      ],
      "execution_count": null,
      "outputs": []
    },
    {
      "cell_type": "code",
      "metadata": {
        "id": "CZmd3lIqYyS4",
        "colab_type": "code",
        "colab": {
          "base_uri": "https://localhost:8080/",
          "height": 281
        },
        "outputId": "97122599-5bef-4ef7-f202-9b6f4968d0e4"
      },
      "source": [
        "print(tensor1)\n",
        "print(tensor2)\n",
        "print(tensor3)\n",
        "# Notice the changes in shape"
      ],
      "execution_count": null,
      "outputs": [
        {
          "output_type": "stream",
          "text": [
            "tf.Tensor(\n",
            "[[[1. 1. 1.]\n",
            "  [1. 1. 1.]]], shape=(1, 2, 3), dtype=float32)\n",
            "tf.Tensor(\n",
            "[[[1.]\n",
            "  [1.]\n",
            "  [1.]]\n",
            "\n",
            " [[1.]\n",
            "  [1.]\n",
            "  [1.]]], shape=(2, 3, 1), dtype=float32)\n",
            "tf.Tensor(\n",
            "[[1. 1.]\n",
            " [1. 1.]\n",
            " [1. 1.]], shape=(3, 2), dtype=float32)\n"
          ],
          "name": "stdout"
        }
      ]
    },
    {
      "cell_type": "markdown",
      "metadata": {
        "id": "4taEqCz8ZAaZ",
        "colab_type": "text"
      },
      "source": [
        "#Slicing Tensors\n",
        "You may be familiar with the term \"slice\" in python and its use on lists, tuples etc. Well the slice operator can be used on tensors to select specific axes or elements.\n",
        "\n",
        "When we slice or select elements from a tensor, we can use comma seperated values inside the set of square brackets. Each subsequent value refrences a different dimension of the tensor.\n",
        "\n",
        "Ex: tensor[dim1, dim2, dim3]\n",
        "\n",
        "I've included a few examples that will hopefully help illustrate how we can manipulate tensors with the slice operator."
      ]
    },
    {
      "cell_type": "code",
      "metadata": {
        "id": "Q0f4oooPZCnA",
        "colab_type": "code",
        "colab": {
          "base_uri": "https://localhost:8080/",
          "height": 52
        },
        "outputId": "46df3169-6577-4b29-eef3-b31deb43f400"
      },
      "source": [
        "# Creating a 2D tensor\n",
        "matrix = [[1,2,3,4,5],\n",
        "          [6,7,8,9,10],\n",
        "          [11,12,13,14,15],\n",
        "          [16,17,18,19,20]]\n",
        "\n",
        "tensor = tf.Variable(matrix, dtype=tf.int32) \n",
        "print(tf.rank(tensor))\n",
        "print(tensor.shape)"
      ],
      "execution_count": null,
      "outputs": [
        {
          "output_type": "stream",
          "text": [
            "tf.Tensor(2, shape=(), dtype=int32)\n",
            "(4, 5)\n"
          ],
          "name": "stdout"
        }
      ]
    },
    {
      "cell_type": "code",
      "metadata": {
        "id": "RDiJUq9ocD-B",
        "colab_type": "code",
        "colab": {
          "base_uri": "https://localhost:8080/",
          "height": 122
        },
        "outputId": "91ae88e0-3947-4de4-af1b-c9390cda6c9a"
      },
      "source": [
        "# Now lets select some different rows and columns from our tensor\n",
        "\n",
        "three = tensor[0,2]  # selects the 3rd element from the 1st row\n",
        "print(three.numpy())  # -> 3\n",
        "\n",
        "row1 = tensor[0]  # selects the first row\n",
        "print(row1.numpy())\n",
        "\n",
        "column1 = tensor[:, 0]  # selects the first column\n",
        "print(column1.numpy())\n",
        "\n",
        "row_2_and_4 = tensor[1::2]  # selects second and fourth row\n",
        "print(row_2_and_4.numpy())\n",
        "\n",
        "column_1_in_row_2_and_3 = tensor[1:3, 0]\n",
        "print(column_1_in_row_2_and_3.numpy())\n"
      ],
      "execution_count": null,
      "outputs": [
        {
          "output_type": "stream",
          "text": [
            "3\n",
            "[1 2 3 4 5]\n",
            "[ 1  6 11 16]\n",
            "[[ 6  7  8  9 10]\n",
            " [16 17 18 19 20]]\n",
            "[ 6 11]\n"
          ],
          "name": "stdout"
        }
      ]
    },
    {
      "cell_type": "markdown",
      "metadata": {
        "id": "Xycn1jIfoRAx",
        "colab_type": "text"
      },
      "source": [
        "#Broadcasting with TensorFlow\n",
        "Broadcasting is a concept borrowed from the equivalent feature in NumPy. In short, under certain conditions, smaller tensors are \"stretched\" automatically to fit larger tensors when running combined operations on them.\n",
        "\n",
        "The simplest and most common case is when you attempt to multiply or add a tensor to a scalar. In that case, the scalar is broadcast to be the same shape as the other argument"
      ]
    },
    {
      "cell_type": "code",
      "metadata": {
        "id": "3K0IG2EtoS-R",
        "colab_type": "code",
        "colab": {
          "base_uri": "https://localhost:8080/",
          "height": 69
        },
        "outputId": "0162b549-c7cc-4bc8-b2ef-e78fabd29d98"
      },
      "source": [
        "x = tf.constant([1, 2, 3])\n",
        "y = tf.constant(2)\n",
        "z = tf.constant([2, 1, 2])\n",
        "# All of these are the same computation\n",
        "print(tf.multiply(x, 2))\n",
        "print(x * y)\n",
        "print(x * z)"
      ],
      "execution_count": null,
      "outputs": [
        {
          "output_type": "stream",
          "text": [
            "tf.Tensor([2 4 6], shape=(3,), dtype=int32)\n",
            "tf.Tensor([2 4 6], shape=(3,), dtype=int32)\n",
            "tf.Tensor([2 2 6], shape=(3,), dtype=int32)\n"
          ],
          "name": "stdout"
        }
      ]
    },
    {
      "cell_type": "markdown",
      "metadata": {
        "id": "S1qboxMNq6l8",
        "colab_type": "text"
      },
      "source": [
        "#Type of Data\n",
        "A tensor can only have one type of data at a time. A tensor can only have one type of data. You can return the type with the property dtype."
      ]
    },
    {
      "cell_type": "code",
      "metadata": {
        "id": "yvrj6lZ4q2si",
        "colab_type": "code",
        "colab": {
          "base_uri": "https://localhost:8080/",
          "height": 34
        },
        "outputId": "013e129d-0a11-40fb-9e86-777c7575dd3b"
      },
      "source": [
        "print(x.dtype)"
      ],
      "execution_count": null,
      "outputs": [
        {
          "output_type": "stream",
          "text": [
            "<dtype: 'int32'>\n"
          ],
          "name": "stdout"
        }
      ]
    },
    {
      "cell_type": "markdown",
      "metadata": {
        "id": "yD-pQtZsrCPB",
        "colab_type": "text"
      },
      "source": [
        "##Changing Type of Data"
      ]
    },
    {
      "cell_type": "code",
      "metadata": {
        "id": "brU37NYVq-sZ",
        "colab_type": "code",
        "colab": {
          "base_uri": "https://localhost:8080/",
          "height": 52
        },
        "outputId": "d59c8a1d-437d-4cd4-c62d-8132f0593f77"
      },
      "source": [
        "type_float = tf.constant(3.142, tf.float32)\n",
        "type_int = tf.cast(type_float, dtype=tf.int32)\n",
        "print(type_float.dtype)\n",
        "print(type_int.dtype)"
      ],
      "execution_count": null,
      "outputs": [
        {
          "output_type": "stream",
          "text": [
            "<dtype: 'float32'>\n",
            "<dtype: 'int32'>\n"
          ],
          "name": "stdout"
        }
      ]
    },
    {
      "cell_type": "markdown",
      "metadata": {
        "id": "f_OroIeSiU1a",
        "colab_type": "text"
      },
      "source": [
        "#Useful TensorFlow Operators\n",
        "We can do basic math on tensors, including addition, element-wise multiplication, matrix multiplication, etc.\n",
        "Some of the operations are as follows:\n",
        "* tf.add(a, b)\n",
        "* tf.subtract(a, b)\n",
        "* tf.multiply(a, b)\n",
        "* tf.div(a, b)\n",
        "* tf.pow(a, b)\n",
        "* tf.exp(a)\n",
        "* tf.sqrt(a)"
      ]
    },
    {
      "cell_type": "code",
      "metadata": {
        "id": "Bg9svQcbiZjy",
        "colab_type": "code",
        "colab": {
          "base_uri": "https://localhost:8080/",
          "height": 297
        },
        "outputId": "880b3564-5ea1-4165-e724-11beda374ae8"
      },
      "source": [
        "a = tf.constant([[1, 2],\n",
        "                 [3, 4]])\n",
        "b = tf.constant([[1, 1],\n",
        "                 [1, 1]]) # Could have also said `tf.ones([2,2])`\n",
        "\n",
        "print(tf.add(a, b), \"\\n\")\n",
        "print(tf.subtract(a, b), \"\\n\")\n",
        "print(tf.multiply(a, b), \"\\n\")\n",
        "print(tf.matmul(a, b), \"\\n\")"
      ],
      "execution_count": null,
      "outputs": [
        {
          "output_type": "stream",
          "text": [
            "tf.Tensor(\n",
            "[[2 3]\n",
            " [4 5]], shape=(2, 2), dtype=int32) \n",
            "\n",
            "tf.Tensor(\n",
            "[[0 1]\n",
            " [2 3]], shape=(2, 2), dtype=int32) \n",
            "\n",
            "tf.Tensor(\n",
            "[[1 2]\n",
            " [3 4]], shape=(2, 2), dtype=int32) \n",
            "\n",
            "tf.Tensor(\n",
            "[[3 3]\n",
            " [7 7]], shape=(2, 2), dtype=int32) \n",
            "\n"
          ],
          "name": "stdout"
        }
      ]
    },
    {
      "cell_type": "code",
      "metadata": {
        "id": "lUQDe6w8ie7y",
        "colab_type": "code",
        "colab": {
          "base_uri": "https://localhost:8080/",
          "height": 297
        },
        "outputId": "063680f7-8038-4e37-c839-d09ce183c560"
      },
      "source": [
        "print(a + b, \"\\n\") # element-wise addition\n",
        "print(a - b, \"\\n\") # element-wise subtraction\n",
        "print(a * b, \"\\n\") # element-wise multiplication\n",
        "print(a @ b, \"\\n\") # matrix multiplication"
      ],
      "execution_count": null,
      "outputs": [
        {
          "output_type": "stream",
          "text": [
            "tf.Tensor(\n",
            "[[2 3]\n",
            " [4 5]], shape=(2, 2), dtype=int32) \n",
            "\n",
            "tf.Tensor(\n",
            "[[0 1]\n",
            " [2 3]], shape=(2, 2), dtype=int32) \n",
            "\n",
            "tf.Tensor(\n",
            "[[1 2]\n",
            " [3 4]], shape=(2, 2), dtype=int32) \n",
            "\n",
            "tf.Tensor(\n",
            "[[3 3]\n",
            " [7 7]], shape=(2, 2), dtype=int32) \n",
            "\n"
          ],
          "name": "stdout"
        }
      ]
    },
    {
      "cell_type": "markdown",
      "metadata": {
        "id": "G8sSfDLo1tQq",
        "colab_type": "text"
      },
      "source": [
        "*End of Tutorial*"
      ]
    }
  ]
}